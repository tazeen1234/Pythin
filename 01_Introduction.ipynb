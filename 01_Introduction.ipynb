{
 "cells": [
  {
   "cell_type": "markdown",
   "metadata": {},
   "source": [
    "# <font color=blue>Introduction</font>"
   ]
  },
  {
   "cell_type": "markdown",
   "metadata": {
    "toc": true
   },
   "source": [
    "<h1>Contents<span class=\"tocSkip\"></span></h1>\n",
    "<div class=\"toc\"><ul class=\"toc-item\"><li><span><a href=\"#Introduction\" data-toc-modified-id=\"Introduction-1\"><span class=\"toc-item-num\">1&nbsp;&nbsp;</span><font color=\"blue\">Introduction</font></a></span><ul class=\"toc-item\"><li><span><a href=\"#Learning-Objectives\" data-toc-modified-id=\"Learning-Objectives-1.1\"><span class=\"toc-item-num\">1.1&nbsp;&nbsp;</span>Learning Objectives</a></span></li><li><span><a href=\"#Key-Concepts\" data-toc-modified-id=\"Key-Concepts-1.2\"><span class=\"toc-item-num\">1.2&nbsp;&nbsp;</span>Key Concepts</a></span><ul class=\"toc-item\"><li><span><a href=\"#Compiled-and-Interpreted-Languages\" data-toc-modified-id=\"Compiled-and-Interpreted-Languages-1.2.1\"><span class=\"toc-item-num\">1.2.1&nbsp;&nbsp;</span>Compiled and Interpreted Languages</a></span></li></ul></li><li><span><a href=\"#Introducing-Python\" data-toc-modified-id=\"Introducing-Python-1.3\"><span class=\"toc-item-num\">1.3&nbsp;&nbsp;</span>Introducing Python</a></span><ul class=\"toc-item\"><li><span><a href=\"#Jupyter-notebooks\" data-toc-modified-id=\"Jupyter-notebooks-1.3.1\"><span class=\"toc-item-num\">1.3.1&nbsp;&nbsp;</span>Jupyter notebooks</a></span></li></ul></li><li><span><a href=\"#Our-first-python-program\" data-toc-modified-id=\"Our-first-python-program-1.4\"><span class=\"toc-item-num\">1.4&nbsp;&nbsp;</span>Our first python program</a></span><ul class=\"toc-item\"><li><span><a href=\"#Getting-help\" data-toc-modified-id=\"Getting-help-1.4.1\"><span class=\"toc-item-num\">1.4.1&nbsp;&nbsp;</span>Getting help</a></span></li><li><span><a href=\"#Commenting-your-code\" data-toc-modified-id=\"Commenting-your-code-1.4.2\"><span class=\"toc-item-num\">1.4.2&nbsp;&nbsp;</span>Commenting your code</a></span></li></ul></li><li><span><a href=\"#Mathematical-operators\" data-toc-modified-id=\"Mathematical-operators-1.5\"><span class=\"toc-item-num\">1.5&nbsp;&nbsp;</span>Mathematical operators</a></span><ul class=\"toc-item\"><li><span><a href=\"#Operator-precedence\" data-toc-modified-id=\"Operator-precedence-1.5.1\"><span class=\"toc-item-num\">1.5.1&nbsp;&nbsp;</span>Operator precedence</a></span></li></ul></li><li><span><a href=\"#Syntax-errors\" data-toc-modified-id=\"Syntax-errors-1.6\"><span class=\"toc-item-num\">1.6&nbsp;&nbsp;</span>Syntax errors</a></span></li><li><span><a href=\"#Exercises\" data-toc-modified-id=\"Exercises-1.7\"><span class=\"toc-item-num\">1.7&nbsp;&nbsp;</span>Exercises</a></span><ul class=\"toc-item\"><li><span><a href=\"#Exercise-1\" data-toc-modified-id=\"Exercise-1-1.7.1\"><span class=\"toc-item-num\">1.7.1&nbsp;&nbsp;</span>Exercise 1</a></span></li><li><span><a href=\"#Exercise-2\" data-toc-modified-id=\"Exercise-2-1.7.2\"><span class=\"toc-item-num\">1.7.2&nbsp;&nbsp;</span>Exercise 2</a></span></li></ul></li><li><span><a href=\"#Further-reading\" data-toc-modified-id=\"Further-reading-1.8\"><span class=\"toc-item-num\">1.8&nbsp;&nbsp;</span>Further reading</a></span></li></ul></li></ul></div>"
   ]
  },
  {
   "cell_type": "markdown",
   "metadata": {},
   "source": [
    "***\n",
    "## Learning Objectives\n",
    "- Understand the difference between a compiled and interpreted language.\n",
    "- Know how to use some basic Python statements to provide output to the user and perform simple calculations.\n",
    "***"
   ]
  },
  {
   "cell_type": "markdown",
   "metadata": {},
   "source": [
    "## Key Concepts\n",
    "\n",
    "A computer's central processing units (CPU) can only execute binary machine code. This is the lowest-level representation of a computer program and is hardware-dependent. Machine code is very hard for humans to understand and so almost all programs are written in a compiled or interpreted high-level programing language.\n",
    "\n",
    "A computer program is a sequence of instructions which describe algorithms which instruct the computer how to process and manipulate data.\n",
    "\n",
    "### Compiled and Interpreted Languages\n",
    "Depending on the language used, the computer program may need to be _compiled_ or _interpreted_. Compiled languages use a _compiler_ to convert the entire program into machine code which can be executed directly by the processor. Interpreted languages use an _interpreter_ to convert each statement to machine code as they are executed.\n",
    "\n",
    "The main advantage of compiled languages is speed, they are very fast and it is very hard to outperform them. On the other hand, they are hard to develop and debug, and many of them require manual memory management."
   ]
  },
  {
   "cell_type": "markdown",
   "metadata": {},
   "source": [
    "## Introducing Python\n",
    "Python is an interpreted language, fully modular, free and open source. In contrast to other popular programming languages such as C, C++ and FORTRAN, Python strives to provide a simple, yet powerful syntax that is easy to code. There is a large number of scientific computing packages and libraries.\n",
    "\n",
    "Instructions can be issued interactively to the Python interpreter, but it is more common practice to write a Python program in a plain text file, which is subsequently processed by the interpreter. Python files usually have a \".py\" extension. Python instructions follow a special syntax which is the topic of this course.\n",
    "\n",
    "### Jupyter notebooks\n",
    "For the purposes of learning the Python programming language, we will use Jupyter notebooks, which provide a more user-friendly and interactive learning experience than directly interacting with the Python interpreter.\n",
    "\n",
    "Each Python notebook intersperses notes with interactive code blocks which can be executed in the web browser by highlighting them and pressing CTRL+ENTER."
   ]
  },
  {
   "cell_type": "markdown",
   "metadata": {},
   "source": [
    "## Our first python program\n",
    "\n",
    "In this course Python 3.x syntax will be used. As with all programming languages, the syntax must be correct or the interpreter will generate errors and the program will fail to execute.\n",
    "\n",
    "One of the simplest program we can write prints the phrase \"Hello World\". Run the program below; the result should be printed below."
   ]
  },
  {
   "cell_type": "code",
   "execution_count": null,
   "metadata": {
    "format": "row",
    "scrolled": true
   },
   "outputs": [],
   "source": [
    "print(\"Hello World\")"
   ]
  },
  {
   "cell_type": "markdown",
   "metadata": {},
   "source": [
    "### Getting help\n",
    "The Python interpreted provides a useful mechanism to learn about a command. Help can be accessed using the \"?\" operator as shown below."
   ]
  },
  {
   "cell_type": "code",
   "execution_count": null,
   "metadata": {
    "format": "column",
    "scrolled": true
   },
   "outputs": [],
   "source": [
    "print?"
   ]
  },
  {
   "cell_type": "markdown",
   "metadata": {},
   "source": [
    "Alternatively, we can use the `help()`"
   ]
  },
  {
   "cell_type": "markdown",
   "metadata": {},
   "source": [
    "### Commenting your code\n",
    "\n",
    "Along with statements, it is very informative to provide comments. They are used to provide higher-level information and the ideas behind the implementation. In Python comments always start with the `#` character. Comments are ignored by the interpreter."
   ]
  },
  {
   "cell_type": "code",
   "execution_count": null,
   "metadata": {
    "scrolled": false
   },
   "outputs": [],
   "source": [
    "# Write a string to the output\n",
    "print(\"Hello World\")"
   ]
  },
  {
   "cell_type": "markdown",
   "metadata": {},
   "source": [
    "## Mathematical operators\n",
    "\n",
    "Python can also be used as a calculator by entering mathematical expressions. These are immediately evaluated and computed by the Python interpreter. This is a very useful and easy way for new programmers to first understand commands and later debug programs.\n",
    "\n",
    "This interactive way of working with Python is known as Read-Eval-Print Loop (REPL) as the way Python interpreter carries out the commands.\n",
    "\n",
    "To see this in action, try running the statement below.\n"
   ]
  },
  {
   "cell_type": "code",
   "execution_count": null,
   "metadata": {
    "format": "row",
    "scrolled": true
   },
   "outputs": [],
   "source": [
    "5 * 2.5"
   ]
  },
  {
   "cell_type": "markdown",
   "metadata": {},
   "source": [
    "Python supports all the basic operations such as addition (`+`), subtraction (`-`), multiplication (`*`), division (`/`) and  exponentation (`**`)."
   ]
  },
  {
   "cell_type": "code",
   "execution_count": null,
   "metadata": {
    "scrolled": true
   },
   "outputs": [],
   "source": [
    "100 + 10"
   ]
  },
  {
   "cell_type": "code",
   "execution_count": null,
   "metadata": {
    "scrolled": true
   },
   "outputs": [],
   "source": [
    "25 - 1.5"
   ]
  },
  {
   "cell_type": "code",
   "execution_count": null,
   "metadata": {
    "scrolled": true
   },
   "outputs": [],
   "source": [
    "3 * 5"
   ]
  },
  {
   "cell_type": "code",
   "execution_count": null,
   "metadata": {
    "scrolled": true
   },
   "outputs": [],
   "source": [
    "10 / 2"
   ]
  },
  {
   "cell_type": "code",
   "execution_count": null,
   "metadata": {
    "scrolled": true
   },
   "outputs": [],
   "source": [
    "2**3    # We can add comments on the same line as the code"
   ]
  },
  {
   "cell_type": "code",
   "execution_count": null,
   "metadata": {},
   "outputs": [],
   "source": [
    "10 % 3  # % mod operator"
   ]
  },
  {
   "cell_type": "markdown",
   "metadata": {},
   "source": [
    "Note that when 2 or more statements are included in a cell, only the last statment output is returned"
   ]
  },
  {
   "cell_type": "code",
   "execution_count": null,
   "metadata": {
    "scrolled": true
   },
   "outputs": [],
   "source": [
    "3.7 / 2.3\n",
    "2 + 1\n",
    "3 * 2"
   ]
  },
  {
   "cell_type": "markdown",
   "metadata": {},
   "source": [
    "### Operator precedence\n",
    "Python interprets some operators with higher precedence than others. For example, multiplication is performed before addition."
   ]
  },
  {
   "cell_type": "code",
   "execution_count": null,
   "metadata": {},
   "outputs": [],
   "source": [
    "4 * 5+1"
   ]
  },
  {
   "cell_type": "markdown",
   "metadata": {},
   "source": [
    "For expressions containing multiple operators, parentheses can be used to enclose expressions which should be evaluated first."
   ]
  },
  {
   "cell_type": "code",
   "execution_count": null,
   "metadata": {},
   "outputs": [],
   "source": [
    "4 * (5 + 1) "
   ]
  },
  {
   "cell_type": "markdown",
   "metadata": {},
   "source": [
    "## Syntax errors\n",
    "When you make an error in your code, the Python interpreter will display an error. Reading the errors carefully will help you fix your code.\n",
    "\n",
    "As an example:"
   ]
  },
  {
   "cell_type": "code",
   "execution_count": null,
   "metadata": {},
   "outputs": [],
   "source": [
    "4 * (5 + 1"
   ]
  },
  {
   "cell_type": "markdown",
   "metadata": {},
   "source": [
    "***\n",
    "## Exercises\n",
    "Now try the following exercises."
   ]
  },
  {
   "cell_type": "markdown",
   "metadata": {},
   "source": [
    "### Exercise 1\n",
    "The circumference of a circle is given by $C=\\pi d$, where $d$ is the diameter of the circle.\n",
    "\n",
    "Assume $\\pi=3.14159$. Using Python code and the cell below, calculate the circumference of a circle of radius 5."
   ]
  },
  {
   "cell_type": "code",
   "execution_count": null,
   "metadata": {},
   "outputs": [],
   "source": []
  },
  {
   "cell_type": "markdown",
   "metadata": {
    "solution2": "hidden",
    "solution2_first": true
   },
   "source": [
    " "
   ]
  },
  {
   "cell_type": "code",
   "execution_count": null,
   "metadata": {
    "solution2": "hidden"
   },
   "outputs": [],
   "source": [
    "3.14159*2*5"
   ]
  },
  {
   "cell_type": "markdown",
   "metadata": {},
   "source": [
    "### Exercise 2\n",
    "Insert parentheses appropriately to fix the calculation below to correctly calculate the surface area of a cone of height $h = 2.5$ and radius $r = 1.5$.\n",
    "$$A=\\pi r (r+\\sqrt{h^2+r^2})$$"
   ]
  },
  {
   "cell_type": "code",
   "execution_count": null,
   "metadata": {},
   "outputs": [],
   "source": [
    "from math import sqrt\n",
    "3.14159 * 1.5 * 1.5 + sqrt 2.5 * 2.5 + 1.5 * 1.5"
   ]
  },
  {
   "cell_type": "markdown",
   "metadata": {
    "solution2": "hidden",
    "solution2_first": true
   },
   "source": [
    " "
   ]
  },
  {
   "cell_type": "code",
   "execution_count": null,
   "metadata": {
    "solution2": "hidden"
   },
   "outputs": [],
   "source": [
    "from math import sqrt\n",
    "3.14159 * 1.5 * (1.5 + sqrt(2.5 * 2.5 + 1.5 * 1.5))"
   ]
  },
  {
   "cell_type": "markdown",
   "metadata": {},
   "source": [
    "## Further reading"
   ]
  },
  {
   "cell_type": "markdown",
   "metadata": {},
   "source": [
    "* http://www.python.org - The official web page of the Python programming language.\n",
    "* http://www.python.org/dev/peps/pep-0008 - Style guide for Python programming.\n",
    "* https://greenteapress.com/wp/think-python-2e/ - A free book on Python programming."
   ]
  },
  {
   "cell_type": "markdown",
   "metadata": {},
   "source": [
    "***"
   ]
  }
 ],
 "metadata": {
  "anaconda-cloud": {},
  "kernelspec": {
   "display_name": "Python 3",
   "language": "python",
   "name": "python3"
  },
  "language_info": {
   "codemirror_mode": {
    "name": "ipython",
    "version": 3
   },
   "file_extension": ".py",
   "mimetype": "text/x-python",
   "name": "python",
   "nbconvert_exporter": "python",
   "pygments_lexer": "ipython3",
   "version": "3.7.3rc1"
  },
  "name": "_merged",
  "nbTranslate": {
   "displayLangs": [
    "es",
    "en"
   ],
   "hotkey": "alt-t",
   "langInMainMenu": true,
   "sourceLang": "en",
   "targetLang": "es",
   "useGoogleTranslate": true
  },
  "toc": {
   "base_numbering": 1,
   "nav_menu": {
    "height": "339px",
    "width": "236px"
   },
   "number_sections": true,
   "sideBar": true,
   "skip_h1_title": false,
   "title_cell": "Contents",
   "title_sidebar": "Contents",
   "toc_cell": true,
   "toc_position": {
    "height": "1022px",
    "left": "0px",
    "right": "1665px",
    "top": "107px",
    "width": "255px"
   },
   "toc_section_display": "block",
   "toc_window_display": true
  },
  "varInspector": {
   "cols": {
    "lenName": 16,
    "lenType": 16,
    "lenVar": 40
   },
   "kernels_config": {
    "python": {
     "delete_cmd_postfix": "",
     "delete_cmd_prefix": "del ",
     "library": "var_list.py",
     "varRefreshCmd": "print(var_dic_list())"
    },
    "r": {
     "delete_cmd_postfix": ") ",
     "delete_cmd_prefix": "rm(",
     "library": "var_list.r",
     "varRefreshCmd": "cat(var_dic_list()) "
    }
   },
   "types_to_exclude": [
    "module",
    "function",
    "builtin_function_or_method",
    "instance",
    "_Feature"
   ],
   "window_display": false
  }
 },
 "nbformat": 4,
 "nbformat_minor": 1
}
