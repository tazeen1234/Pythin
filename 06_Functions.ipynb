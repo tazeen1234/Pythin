{
 "cells": [
  {
   "cell_type": "markdown",
   "metadata": {},
   "source": [
    "# <font color=blue>Functions</font>"
   ]
  },
  {
   "cell_type": "markdown",
   "metadata": {
    "toc": true
   },
   "source": [
    "<h1>Table of Contents<span class=\"tocSkip\"></span></h1>\n",
    "<div class=\"toc\"><ul class=\"toc-item\"><li><span><a href=\"#Functions\" data-toc-modified-id=\"Functions-6\"><span class=\"toc-item-num\">6&nbsp;&nbsp;</span><font color=\"blue\">Functions</font></a></span><ul class=\"toc-item\"><li><span><a href=\"#Learning-Objectives\" data-toc-modified-id=\"Learning-Objectives-6.1\"><span class=\"toc-item-num\">6.1&nbsp;&nbsp;</span>Learning Objectives</a></span></li><li><span><a href=\"#Passing-arguments-in-Python\" data-toc-modified-id=\"Passing-arguments-in-Python-6.2\"><span class=\"toc-item-num\">6.2&nbsp;&nbsp;</span>Passing arguments in Python</a></span></li><li><span><a href=\"#Docstrings\" data-toc-modified-id=\"Docstrings-6.3\"><span class=\"toc-item-num\">6.3&nbsp;&nbsp;</span>Docstrings</a></span></li><li><span><a href=\"#Default-values-and-optional-parameters\" data-toc-modified-id=\"Default-values-and-optional-parameters-6.4\"><span class=\"toc-item-num\">6.4&nbsp;&nbsp;</span>Default values and optional parameters</a></span></li><li><span><a href=\"#Unnamed-functions-(lambda-function)\" data-toc-modified-id=\"Unnamed-functions-(lambda-function)-6.5\"><span class=\"toc-item-num\">6.5&nbsp;&nbsp;</span>Unnamed functions (lambda function)</a></span></li><li><span><a href=\"#Exercises\" data-toc-modified-id=\"Exercises-6.6\"><span class=\"toc-item-num\">6.6&nbsp;&nbsp;</span>Exercises</a></span><ul class=\"toc-item\"><li><span><a href=\"#Exercise-1\" data-toc-modified-id=\"Exercise-1-6.6.1\"><span class=\"toc-item-num\">6.6.1&nbsp;&nbsp;</span>Exercise 1</a></span></li><li><span><a href=\"#Exercise-2\" data-toc-modified-id=\"Exercise-2-6.6.2\"><span class=\"toc-item-num\">6.6.2&nbsp;&nbsp;</span>Exercise 2</a></span></li></ul></li></ul></li></ul></div>"
   ]
  },
  {
   "cell_type": "markdown",
   "metadata": {},
   "source": [
    "***\n",
    "## Learning Objectives\n",
    "- Understand the benefits of using functions to break programs into manageable pieces.\n",
    "- Know how to define and call a function.\n",
    "- Understand how parameters are passed to functions.\n",
    "- Know how to document a function.\n",
    "***"
   ]
  },
  {
   "cell_type": "markdown",
   "metadata": {},
   "source": [
    "In any programing language like, the term function means more than just a mathematical function. It is a collection of statements that can be executed wherever and whenever inside a program. You may send variables, known as arguments, to the function to change what it is being computed, and the function may return new objects. \n",
    "\n",
    "Functions help to avoid duplicating code by putting all similar code in a common place. This strategy saves typing and makes it easier to change and maintain the program later. Functions are also often used to split a long program into smaller, more manageable pieces, so the program and your own thinking about it become clearer and organized. Functions are used to group a number of statements into a logical block\n",
    "\n",
    "Function blocks in Python must be indented as other control-flow blocks:"
   ]
  },
  {
   "cell_type": "code",
   "execution_count": null,
   "metadata": {
    "scrolled": true
   },
   "outputs": [],
   "source": [
    "def test():\n",
    "    pass\n",
    "\n",
    "\n",
    "test()"
   ]
  },
  {
   "cell_type": "code",
   "execution_count": null,
   "metadata": {},
   "outputs": [],
   "source": [
    "from math import cos, pi\n",
    "cos(pi)"
   ]
  },
  {
   "cell_type": "markdown",
   "metadata": {},
   "source": [
    "**`return`** statement: functions can optionally return values. By default, functions return **None**.\n",
    "\n",
    "Note the syntax to define a function:\n",
    "* the **`def`** keyword;\n",
    "* is followed by the function's name, then;\n",
    "* the arguments of the function are given between parentheses followed by a colon.\n",
    "* the function body;\n",
    "* and **return object** for optionally returning values."
   ]
  },
  {
   "cell_type": "code",
   "execution_count": null,
   "metadata": {
    "scrolled": true
   },
   "outputs": [],
   "source": [
    "import math\n",
    "\n",
    "\n",
    "def disk_area(radius):\n",
    "    area = math.pi * radius * radius\n",
    "    return area\n",
    "\n",
    "\n",
    "disk_area(1.5)"
   ]
  },
  {
   "cell_type": "markdown",
   "metadata": {},
   "source": [
    "## Passing arguments in Python\n",
    "\n",
    "When objects are passed to a function as arguments, In Python \"Object references are passed by value\". \n",
    "\n",
    "This means that the function will see the same object as in the calling code. The function does actually operate on the\n",
    "same object, not a copy of it."
   ]
  },
  {
   "cell_type": "code",
   "execution_count": null,
   "metadata": {
    "scrolled": true
   },
   "outputs": [],
   "source": [
    "def double_value(l):\n",
    "    print('in double_value : l = {:}'.format(l))\n",
    "    for i in range(len(l)):\n",
    "        l[i] *= 2\n",
    "    print('in double_value : changed l to l = {:}'.format(l))\n",
    "\n",
    "\n",
    "l_global = [1, 2, 3]\n",
    "print('In main: l = {:}'.format(l_global))\n",
    "print('Executing double_value:')\n",
    "double_value(l_global)\n",
    "print('In main: l = {:}'.format(l_global))"
   ]
  },
  {
   "cell_type": "markdown",
   "metadata": {},
   "source": [
    "The variable `l` inside the function is a reference to the list object `l_global`. The line `l[i] *= 2` first evaluates the right-hand side by reading the element with index `i` and multiplying by two. A reference to this new object is then stored in the list object `l` at position with index `i`. We have thus modified the list object `l_global`, that is referenced through `l`."
   ]
  },
  {
   "cell_type": "code",
   "execution_count": null,
   "metadata": {
    "scrolled": true
   },
   "outputs": [],
   "source": [
    "def double_list(l):\n",
    "    print('in double_list : l = {:}'.format(l))\n",
    "    l = l * 2\n",
    "    print('in double_list : changed l to l = {:}'.format(l))\n",
    "\n",
    "\n",
    "l_global = [1, 2, 3]\n",
    "print('In main: l = {:}'.format(l_global))\n",
    "print('Executing double_list:')\n",
    "double_list(l_global)\n",
    "print('In main: l = {:}'.format(l_global))"
   ]
  },
  {
   "cell_type": "markdown",
   "metadata": {},
   "source": [
    "In contrast, in the previous example the elements of the list are not modified within the function.\n",
    "In this case during the evaluation of `l = l*2` a new object is created that holds `l*2`, and then the name `l` is binded to it. In the process, the references to the list object `l_global` that was given to the function is lost.\n",
    "\n",
    "Python's behaviour of passing arguments to a function may appear to vary (pass by value versus pass by reference). However, it is always call by value, where the value is a reference to the object in question, and the behaviour can be explained\n",
    "through the same reasoning in every case."
   ]
  },
  {
   "cell_type": "markdown",
   "metadata": {},
   "source": [
    "## Docstrings\n",
    "\n",
    "Documentation about what the function does and its parameters.\n",
    "General convention:"
   ]
  },
  {
   "cell_type": "code",
   "execution_count": null,
   "metadata": {
    "scrolled": false
   },
   "outputs": [],
   "source": [
    "def funcname(params):\n",
    "    \"\"\" Concise one-line sentence describing the function.\n",
    "    \n",
    "    Extended summary which can contain multiple paragraphs.\n",
    "    \"\"\"\n",
    "    # function body\n",
    "    pass"
   ]
  },
  {
   "cell_type": "code",
   "execution_count": null,
   "metadata": {
    "scrolled": false
   },
   "outputs": [],
   "source": [
    "funcname?"
   ]
  },
  {
   "cell_type": "code",
   "execution_count": null,
   "metadata": {
    "scrolled": true
   },
   "outputs": [],
   "source": [
    "help(funcname)"
   ]
  },
  {
   "cell_type": "markdown",
   "metadata": {},
   "source": [
    "## Default values and optional parameters\n",
    "\n",
    "Functions can have optional and default values as illustrated in the next example.\n",
    "\n",
    "The following function prints the multiplication table for n, up to a given factor `upto`:"
   ]
  },
  {
   "cell_type": "code",
   "execution_count": null,
   "metadata": {
    "scrolled": true
   },
   "outputs": [],
   "source": [
    "def print_mult_table(n=3, upto=10):\n",
    "    for i in range(1, upto + 1):\n",
    "        print(\"{:3d} * {:d} = {:4d}\".format(i, n, i * n))"
   ]
  },
  {
   "cell_type": "code",
   "execution_count": null,
   "metadata": {
    "scrolled": true
   },
   "outputs": [],
   "source": [
    "print_mult_table(upto=3, n=4)"
   ]
  },
  {
   "cell_type": "code",
   "execution_count": null,
   "metadata": {
    "scrolled": true
   },
   "outputs": [],
   "source": [
    "print_mult_table(3, 4)"
   ]
  },
  {
   "cell_type": "code",
   "execution_count": null,
   "metadata": {},
   "outputs": [],
   "source": [
    "print_mult_table(3)"
   ]
  },
  {
   "cell_type": "markdown",
   "metadata": {},
   "source": [
    "The function `print_mult_table()` takes two arguments: `n` and `upto`. The first argument `n` is a \"normal\" variable and the  value of the argument `upto` is set to a default value of 10 if it is not defined, otherwise the passed value is used."
   ]
  },
  {
   "cell_type": "markdown",
   "metadata": {},
   "source": [
    "## Unnamed functions (lambda function)"
   ]
  },
  {
   "cell_type": "markdown",
   "metadata": {},
   "source": [
    "In Python the `lambda` keyword is used to create unnamed functions:"
   ]
  },
  {
   "cell_type": "code",
   "execution_count": null,
   "metadata": {},
   "outputs": [],
   "source": [
    "f1 = lambda x: x**2\n",
    "    \n",
    "# is equivalent to \n",
    "\n",
    "def f2(x):\n",
    "    return x**2"
   ]
  },
  {
   "cell_type": "code",
   "execution_count": null,
   "metadata": {},
   "outputs": [],
   "source": [
    "f1(2), f2(2)"
   ]
  },
  {
   "cell_type": "markdown",
   "metadata": {},
   "source": [
    "***\n",
    "## Exercises\n",
    "Now try the following exercises."
   ]
  },
  {
   "cell_type": "markdown",
   "metadata": {},
   "source": [
    "### Exercise 1\n",
    "\n",
    "Write a function that displays the n first terms of the Fibonacci sequence, defined by $$u_0=0; u_1=1, u_{n+2}=u_{n+1}+u_n$$."
   ]
  },
  {
   "cell_type": "code",
   "execution_count": null,
   "metadata": {},
   "outputs": [],
   "source": []
  },
  {
   "cell_type": "markdown",
   "metadata": {
    "solution2": "hidden",
    "solution2_first": true
   },
   "source": [
    " "
   ]
  },
  {
   "cell_type": "code",
   "execution_count": null,
   "metadata": {
    "scrolled": false,
    "solution2": "hidden"
   },
   "outputs": [],
   "source": [
    "def fib(n):\n",
    "    a, b = 0, 1\n",
    "    for i in range(n):\n",
    "        print(a, end=', ')\n",
    "        a, b = b, a + b\n",
    "\n",
    "\n",
    "fib(10)"
   ]
  },
  {
   "cell_type": "markdown",
   "metadata": {},
   "source": [
    "### Exercise 2\n",
    "Implement the Trapezoidal rule for numerical integration defined as:\n",
    "$$\\int_{a}^{b}f(x)dx\\approx h\\left(\\frac{1}{2}f(a)+\\sum\\limits _{i=1}^{n-1}f(a+ih)+\\frac{1}{2}f(b)\\right)$$"
   ]
  },
  {
   "cell_type": "code",
   "execution_count": null,
   "metadata": {},
   "outputs": [],
   "source": []
  },
  {
   "cell_type": "markdown",
   "metadata": {
    "solution2": "hidden",
    "solution2_first": true
   },
   "source": [
    " "
   ]
  },
  {
   "cell_type": "code",
   "execution_count": null,
   "metadata": {
    "scrolled": true,
    "solution2": "hidden"
   },
   "outputs": [],
   "source": [
    "def trapezoidal(f, a, b, n):\n",
    "    h = (b - a) / float(n)\n",
    "    I = 0.5 * f(a)\n",
    "    for i in range(1, n):\n",
    "        I += f(a + i * h)\n",
    "    I += 0.5 * f(b)\n",
    "    I *= h\n",
    "    return I"
   ]
  },
  {
   "cell_type": "code",
   "execution_count": null,
   "metadata": {
    "scrolled": true,
    "solution2": "hidden"
   },
   "outputs": [],
   "source": [
    "from math import pi, sin, cos\n",
    "a = 0\n",
    "b = pi\n",
    "for i in range(5):\n",
    "    Area = trapezoidal(sin, a, b, 10**i)\n",
    "    print('Area = {}; \\t n = {}'.format(Area, 10**i))\n",
    "\n",
    "print('Exact value is: {}'.format(-cos(b) + cos(a)))"
   ]
  },
  {
   "cell_type": "markdown",
   "metadata": {},
   "source": [
    "***"
   ]
  }
 ],
 "metadata": {
  "anaconda-cloud": {},
  "kernelspec": {
   "display_name": "Python 3",
   "language": "python",
   "name": "python3"
  },
  "language_info": {
   "codemirror_mode": {
    "name": "ipython",
    "version": 3
   },
   "file_extension": ".py",
   "mimetype": "text/x-python",
   "name": "python",
   "nbconvert_exporter": "python",
   "pygments_lexer": "ipython3",
   "version": "3.7.1"
  },
  "name": "_merged",
  "nbTranslate": {
   "displayLangs": [
    "es",
    "en"
   ],
   "hotkey": "alt-t",
   "langInMainMenu": true,
   "sourceLang": "en",
   "targetLang": "es",
   "useGoogleTranslate": true
  },
  "toc": {
   "base_numbering": "6",
   "nav_menu": {
    "height": "339px",
    "width": "236px"
   },
   "number_sections": true,
   "sideBar": true,
   "skip_h1_title": false,
   "title_cell": "Table of Contents",
   "title_sidebar": "Contents",
   "toc_cell": true,
   "toc_position": {
    "height": "1022px",
    "left": "0px",
    "right": "1665px",
    "top": "107px",
    "width": "241px"
   },
   "toc_section_display": "block",
   "toc_window_display": true
  },
  "varInspector": {
   "cols": {
    "lenName": 16,
    "lenType": 16,
    "lenVar": 40
   },
   "kernels_config": {
    "python": {
     "delete_cmd_postfix": "",
     "delete_cmd_prefix": "del ",
     "library": "var_list.py",
     "varRefreshCmd": "print(var_dic_list())"
    },
    "r": {
     "delete_cmd_postfix": ") ",
     "delete_cmd_prefix": "rm(",
     "library": "var_list.r",
     "varRefreshCmd": "cat(var_dic_list()) "
    }
   },
   "types_to_exclude": [
    "module",
    "function",
    "builtin_function_or_method",
    "instance",
    "_Feature"
   ],
   "window_display": false
  }
 },
 "nbformat": 4,
 "nbformat_minor": 1
}
