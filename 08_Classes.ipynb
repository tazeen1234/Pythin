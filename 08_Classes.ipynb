{
 "cells": [
  {
   "cell_type": "markdown",
   "metadata": {
    "collapsed": true
   },
   "source": [
    "# <font color=blue>Classes</font>"
   ]
  },
  {
   "cell_type": "markdown",
   "metadata": {
    "toc": true
   },
   "source": [
    "<h1>Table of Contents<span class=\"tocSkip\"></span></h1>\n",
    "<div class=\"toc\"><ul class=\"toc-item\"><li><span><a href=\"#Classes\" data-toc-modified-id=\"Classes-8\"><span class=\"toc-item-num\">8&nbsp;&nbsp;</span><font color=\"blue\">Classes</font></a></span><ul class=\"toc-item\"><li><span><a href=\"#Learning-Objectives\" data-toc-modified-id=\"Learning-Objectives-8.1\"><span class=\"toc-item-num\">8.1&nbsp;&nbsp;</span>Learning Objectives</a></span></li><li><span><a href=\"#Inheritance-and-polymorphism\" data-toc-modified-id=\"Inheritance-and-polymorphism-8.2\"><span class=\"toc-item-num\">8.2&nbsp;&nbsp;</span>Inheritance and polymorphism</a></span></li></ul></li></ul></div>"
   ]
  },
  {
   "cell_type": "markdown",
   "metadata": {},
   "source": [
    "***\n",
    "## Learning Objectives\n",
    "- Understand the concepts of a _class_ and an _instance_.\n",
    "- Know how to define a class.\n",
    "- Understand the concepts of inheritance and polymorphism and their benefits.\n",
    "- Know how to create a class which derives its base functionality from another class.\n",
    "***"
   ]
  },
  {
   "cell_type": "markdown",
   "metadata": {
    "collapsed": true
   },
   "source": [
    "Object Oriented Programming (OOP) is a programming paradigm that allows you to use the best ideas from structured programming, but it also encourages you to decompose a problem into related subproblems, where each subproblems becomes a self-contained object that contains its own instructions (functions or methods) and data (variables or members). In this way complexity is reduced, reusability is increased and the programmer can manage larger programs more efficiently. In object-oriented programming, a class is a template (piece of code) for creating objects.\n",
    "\n",
    "When an object is created by a constructor of the class, the resulting object is called an instance of the class, and the member variables specific to the object are called instance variables, to contrast with the class variables shared across the class.\n",
    "\n",
    "A class in Python is very simple, it starts with the reserved word `class`  followed by the name of the class. Technically, that is all that is required:"
   ]
  },
  {
   "cell_type": "code",
   "execution_count": null,
   "metadata": {
    "collapsed": true,
    "scrolled": false
   },
   "outputs": [],
   "source": [
    "class MyClass():\n",
    "    pass"
   ]
  },
  {
   "cell_type": "markdown",
   "metadata": {},
   "source": [
    "Classes can be used to define several functions with parameters.\n",
    "\n",
    "We can take Newton's Law of Universal Gravitation as example:\n",
    "$$F=G\\frac{m_1m_2}{r^2}$$\n",
    "\n",
    "So that $F=f(r ; m_1, m_2)$. F is a function of $r$, but it also depends on other parameter, $m_1$ and $m_2$, $G$ is the gravitational constant and it is equal to $\\mathrm{6.674x10^{-11} N(m/kg)^{2}}$.\n",
    "\n",
    "We could implement it using functions:"
   ]
  },
  {
   "cell_type": "code",
   "execution_count": null,
   "metadata": {
    "collapsed": true,
    "scrolled": false
   },
   "outputs": [],
   "source": [
    "def F(r, m1, m2):\n",
    "    G = 6.674e-11\n",
    "    return G * m1 * m2 / r**2"
   ]
  },
  {
   "cell_type": "markdown",
   "metadata": {},
   "source": [
    "Let's suppose we want to differentiate the function numerically using the approximation:\n",
    "$$f'(x)\\approx\\frac{f(x+h)-f(x)}{h}$$"
   ]
  },
  {
   "cell_type": "code",
   "execution_count": null,
   "metadata": {
    "collapsed": true,
    "scrolled": false
   },
   "outputs": [],
   "source": [
    "def diff(f, x, h=1E-6):\n",
    "    return (f(x + h) - f(x)) / h"
   ]
  },
  {
   "cell_type": "markdown",
   "metadata": {},
   "source": [
    "Unfortunately `diff()` will not work with our function `F()`, since it is only being called with one argument and it needs 3 arguments to be passed. To make it even more complicated, let's suppose we need to differentiate 2 or more functions with different parameters. We will need to define all the parameters for every time we change them (that would get very confusing), or create the function several times (that is not convenient):"
   ]
  },
  {
   "cell_type": "code",
   "execution_count": null,
   "metadata": {},
   "outputs": [],
   "source": [
    "# Calculate the gravitational force between earth and the moon\n",
    "m1 = 5.97e24  # [Kg] Mass of earth\n",
    "m2 = 7.35e22  # [Kg] Mass of the moon\n",
    "rem = 384400000  # [m] distance between earth and moon\n",
    "\n",
    "Fem = F(rem, m1, m2)\n",
    "print(Fem)"
   ]
  },
  {
   "cell_type": "code",
   "execution_count": null,
   "metadata": {
    "scrolled": true
   },
   "outputs": [],
   "source": [
    "# Find the derivative\n",
    "dF = diff(F, rem)\n",
    "print(dF)"
   ]
  },
  {
   "cell_type": "code",
   "execution_count": null,
   "metadata": {
    "scrolled": true
   },
   "outputs": [],
   "source": [
    "def F(r):\n",
    "    G = 6.674e-11\n",
    "    return G * m1 * m2 / r**2\n",
    "\n",
    "\n",
    "Fem = F(rem)\n",
    "print(Fem)\n",
    "\n",
    "dF = diff(F, rem)\n",
    "print(dF)\n",
    "print('Exact value: ', -2 * 6.674e-11 * m1 * m2 / rem**3)"
   ]
  },
  {
   "cell_type": "code",
   "execution_count": null,
   "metadata": {
    "scrolled": true
   },
   "outputs": [],
   "source": [
    "# Now calculate the gravitational force between earth and the sun\n",
    "m1 = 5.97e24  # [Kg] Mass of earth\n",
    "m2 = 1.99e30  # [Kg] Mass of the sun\n",
    "res = 149668992000.  # [m] distance between earth and moon\n",
    "\n",
    "Fes = F(res)\n",
    "print(Fes)\n",
    "\n",
    "# Find the derivative\n",
    "dF = diff(F, res)\n",
    "print(dF)\n",
    "print('Exact value: ', -2 * 6.674e-11 * m1 * m2 / res**3)"
   ]
  },
  {
   "cell_type": "code",
   "execution_count": null,
   "metadata": {
    "collapsed": true,
    "scrolled": false
   },
   "outputs": [],
   "source": [
    "# Other inconvinient solution:\n",
    "def F1(t):\n",
    "    G = 6.674e-11\n",
    "    return G * m1_1 * m2_1 / r**2\n",
    "\n",
    "\n",
    "def F2(t):\n",
    "    G = 6.674e-11\n",
    "    return G * m1_2 * m2_2 / r**2"
   ]
  },
  {
   "cell_type": "markdown",
   "metadata": {},
   "source": [
    "The best way to solve this issues is by implementing the function as a class:"
   ]
  },
  {
   "cell_type": "code",
   "execution_count": null,
   "metadata": {
    "collapsed": true,
    "scrolled": false
   },
   "outputs": [],
   "source": [
    "class Y:\n",
    "    '''  \n",
    "    Mathematical function for the Newton's Law of Universal Gravitation.\n",
    "    \n",
    "    Methods:\n",
    "    constructor(m1): set first mass to m1.\n",
    "    constructor(m2): set second mass to m2.\n",
    "    value(r): compute the force as function of r.\n",
    "        \n",
    "    Attributes:\n",
    "    m1: is the first mass.\n",
    "    m2: is the second mass.\n",
    "    G:  gravitational constant (fixed).\n",
    "    '''\n",
    "\n",
    "    def __init__(self, m1, m2):\n",
    "        self.m1 = m1\n",
    "        self.m2 = m2\n",
    "        self.G = 6.674e-11\n",
    "\n",
    "    def value(self, r):\n",
    "        m1 = self.m1\n",
    "        m2 = self.m2\n",
    "        G = self.G\n",
    "        return G * m1 * m2 / r**2"
   ]
  },
  {
   "cell_type": "markdown",
   "metadata": {},
   "source": [
    "We can now see how this class can be used to compute values of $Y=f(r ; m_1, m_2)$.\n",
    "\n",
    "This class creates new objects of type `Y` called instances. In order to construct the instance we use the following statement:\n"
   ]
  },
  {
   "cell_type": "code",
   "execution_count": null,
   "metadata": {
    "collapsed": true,
    "scrolled": true
   },
   "outputs": [],
   "source": [
    "me = 5.97e24  # [Kg] Mass of earth\n",
    "mm = 7.35e22  # [Kg] Mass of the moon\n",
    "ms = 1.99e30  # [Kg] Mass of the sun\n",
    "yem = Y(me, mm)\n",
    "yes = Y(me, ms)"
   ]
  },
  {
   "cell_type": "markdown",
   "metadata": {},
   "source": [
    "If we now want to find the value of the function at a given distance `r`, we just need to call its `value()` method:"
   ]
  },
  {
   "cell_type": "code",
   "execution_count": null,
   "metadata": {
    "scrolled": true
   },
   "outputs": [],
   "source": [
    "Fem = yem.value(rem)\n",
    "print(Fem)\n",
    "Fes = yes.value(res)\n",
    "print(Fes)"
   ]
  },
  {
   "cell_type": "markdown",
   "metadata": {},
   "source": [
    "We can also use `yem.value`and `yes.value` as ordinary functions of `r`. We can differentiate them:"
   ]
  },
  {
   "cell_type": "code",
   "execution_count": null,
   "metadata": {
    "scrolled": true
   },
   "outputs": [],
   "source": [
    "dyem = diff(yem.value, rem)\n",
    "print(dyem)\n",
    "dyes = diff(yes.value, res)\n",
    "print(dyes)"
   ]
  },
  {
   "cell_type": "markdown",
   "metadata": {},
   "source": [
    "## Inheritance and polymorphism\n",
    "\n",
    "A family of classes is also known as a class hierarchy. Child classes can inherit data and methods from parent classes, modify them, and add their own. This means that if we have a class with some functionality, we can extend this class by creating a child class and simply add the functionality we need there. The original class is still available and the new functionality is implemented in a separate child class that is small, since it does not need to repeat the code in the parent class.\n",
    "\n",
    "Inheritance is the ability to create new types that derive properties from existing types.\n",
    "\n",
    "A parent class is usually called _base class_ or _superclass_, while the child class is known as a _subclass_ or _derived class_. \n",
    "\n",
    "Example: a Student *class*: an object gathering several\n",
    "custom functions (*methods*) and\n",
    "variables (*attributes*)"
   ]
  },
  {
   "cell_type": "code",
   "execution_count": null,
   "metadata": {
    "scrolled": true
   },
   "outputs": [],
   "source": [
    "class Student(object):\n",
    "    def __init__(self, name):\n",
    "        self.name = name\n",
    "\n",
    "    def set_age(self, age):\n",
    "        self.age = age\n",
    "\n",
    "    def set_major(self, major):\n",
    "        self.major = major\n",
    "\n",
    "    def show_major(self):\n",
    "        print(self.name + \"'s major is: \" + self.major)\n",
    "\n",
    "\n",
    "anna = Student('anna')\n",
    "anna.set_age(21)\n",
    "anna.set_major('physics')\n",
    "anna.name"
   ]
  },
  {
   "cell_type": "code",
   "execution_count": null,
   "metadata": {
    "scrolled": true
   },
   "outputs": [],
   "source": [
    "anna.show_major()"
   ]
  },
  {
   "cell_type": "code",
   "execution_count": null,
   "metadata": {},
   "outputs": [],
   "source": [
    "anna.age"
   ]
  },
  {
   "cell_type": "code",
   "execution_count": null,
   "metadata": {
    "collapsed": true
   },
   "outputs": [],
   "source": [
    "anna.height = 178"
   ]
  },
  {
   "cell_type": "code",
   "execution_count": null,
   "metadata": {},
   "outputs": [],
   "source": [
    "anna.height"
   ]
  },
  {
   "cell_type": "markdown",
   "metadata": {},
   "source": [
    "The Student class has attributes `name`, `age` and `major` and has `__init__`, `set_age` and `set_major` methods.\n",
    "\n",
    "Methods and attributes are called using:\n",
    "    `classinstance.method()` or `classinstance.attribute`.\n",
    "\n",
    "Consider new class `MasterStudent`: same as Student class, but with additional\n",
    "`internship` attribute. The class inherits all the methods and attributes from the parent class and adds its own:"
   ]
  },
  {
   "cell_type": "code",
   "execution_count": null,
   "metadata": {
    "scrolled": true
   },
   "outputs": [],
   "source": [
    "class MasterStudent(Student):\n",
    "    internship = 'mandatory, from March to June'\n",
    "\n",
    "    def show_major(self):\n",
    "        print(self.name + \"'s major is: \" + self.major +\n",
    "              \" at a Master's level\")\n",
    "\n",
    "\n",
    "james = MasterStudent('james')\n",
    "james.set_major('maths')\n",
    "james.internship"
   ]
  },
  {
   "cell_type": "code",
   "execution_count": null,
   "metadata": {},
   "outputs": [],
   "source": [
    "anna.internship"
   ]
  },
  {
   "cell_type": "code",
   "execution_count": null,
   "metadata": {
    "scrolled": true
   },
   "outputs": [],
   "source": [
    "james.set_age(23)\n",
    "james.age"
   ]
  },
  {
   "cell_type": "code",
   "execution_count": null,
   "metadata": {
    "scrolled": true
   },
   "outputs": [],
   "source": [
    "james.show_major()"
   ]
  },
  {
   "cell_type": "markdown",
   "metadata": {},
   "source": [
    "Polymorphism, refers to coding with polymorphic methods. A method that is overloaded (redefined or overridden) is said to be polymorphic. When a superclass provides some default implementation of a method, and a subclass overloads the method with the purpose of tailoring the method to a particular application the code is called polymorphic.\n",
    "\n",
    "In the above example the `show_major` method was overloaded in the `MasterStudent` class."
   ]
  },
  {
   "cell_type": "markdown",
   "metadata": {},
   "source": [
    "***"
   ]
  }
 ],
 "metadata": {
  "anaconda-cloud": {},
  "kernelspec": {
   "display_name": "Python 3",
   "language": "python",
   "name": "python3"
  },
  "language_info": {
   "codemirror_mode": {
    "name": "ipython",
    "version": 3
   },
   "file_extension": ".py",
   "mimetype": "text/x-python",
   "name": "python",
   "nbconvert_exporter": "python",
   "pygments_lexer": "ipython3",
   "version": "3.7.1"
  },
  "name": "_merged",
  "nbTranslate": {
   "displayLangs": [
    "es",
    "en"
   ],
   "hotkey": "alt-t",
   "langInMainMenu": true,
   "sourceLang": "en",
   "targetLang": "es",
   "useGoogleTranslate": true
  },
  "toc": {
   "base_numbering": "8",
   "nav_menu": {
    "height": "339px",
    "width": "236px"
   },
   "number_sections": true,
   "sideBar": true,
   "skip_h1_title": false,
   "title_cell": "Table of Contents",
   "title_sidebar": "Contents",
   "toc_cell": true,
   "toc_position": {
    "height": "1022px",
    "left": "0px",
    "right": "1665px",
    "top": "107px",
    "width": "214px"
   },
   "toc_section_display": "block",
   "toc_window_display": true
  },
  "varInspector": {
   "cols": {
    "lenName": 16,
    "lenType": 16,
    "lenVar": 40
   },
   "kernels_config": {
    "python": {
     "delete_cmd_postfix": "",
     "delete_cmd_prefix": "del ",
     "library": "var_list.py",
     "varRefreshCmd": "print(var_dic_list())"
    },
    "r": {
     "delete_cmd_postfix": ") ",
     "delete_cmd_prefix": "rm(",
     "library": "var_list.r",
     "varRefreshCmd": "cat(var_dic_list()) "
    }
   },
   "types_to_exclude": [
    "module",
    "function",
    "builtin_function_or_method",
    "instance",
    "_Feature"
   ],
   "window_display": false
  }
 },
 "nbformat": 4,
 "nbformat_minor": 1
}
